{
  "nbformat": 4,
  "nbformat_minor": 0,
  "metadata": {
    "colab": {
      "name": "image_classification.ipynb",
      "provenance": [],
      "collapsed_sections": [],
      "authorship_tag": "ABX9TyNI2oGIzqtXSy2R52xZoZCH",
      "include_colab_link": true
    },
    "kernelspec": {
      "name": "python3",
      "display_name": "Python 3"
    },
    "language_info": {
      "name": "python"
    },
    "accelerator": "GPU"
  },
  "cells": [
    {
      "cell_type": "markdown",
      "metadata": {
        "id": "view-in-github",
        "colab_type": "text"
      },
      "source": [
        "<a href=\"https://colab.research.google.com/github/ahforoughi/image-classification-using-kNN-and-CNN/blob/main/image_classification.ipynb\" target=\"_parent\"><img src=\"https://colab.research.google.com/assets/colab-badge.svg\" alt=\"Open In Colab\"/></a>"
      ]
    },
    {
      "cell_type": "markdown",
      "metadata": {
        "id": "xhVowRtAh_4a"
      },
      "source": [
        "# Comparing K-nearest neighbour and CNN network on CIFAR dataset\n",
        "## k-NN"
      ]
    },
    {
      "cell_type": "code",
      "metadata": {
        "id": "snWqGdaDh5jb"
      },
      "source": [
        "from sklearn.neighbors import KNeighborsClassifier\n",
        "import tensorflow as tf\n",
        "from tensorflow.keras import datasets, layers, models\n",
        "from sklearn.model_selection import train_test_split\n",
        "from sklearn.preprocessing import StandardScaler\n",
        "from tensorflow.keras import datasets\n",
        "from imutils import paths\n",
        "import numpy as np\n",
        "import matplotlib.pyplot as plt\n",
        "import argparse\n",
        "import imutils\n",
        "import cv2\n",
        "import os"
      ],
      "execution_count": 1,
      "outputs": []
    },
    {
      "cell_type": "code",
      "metadata": {
        "colab": {
          "base_uri": "https://localhost:8080/"
        },
        "id": "WxHXtSFE06C8",
        "outputId": "d129c407-7551-4e47-ad59-850015e4b577"
      },
      "source": [
        "(X_train, y_train), (X_test,y_test) = datasets.cifar10.load_data()\n",
        "classes = [\"airplane\",\"automobile\",\"bird\",\"cat\",\"deer\",\"dog\",\"frog\",\"horse\",\"ship\",\"truck\"]\n",
        "def plot_sample(X, y):\n",
        "    plt.figure(figsize = (15,2))\n",
        "    plt.imshow(X)\n",
        "    plt.xlabel(classes[y])\n",
        "\n",
        "y_train = y_train.reshape(-1,)\n",
        "y_test = y_test.reshape(-1,)\n",
        "y_train.shape"
      ],
      "execution_count": 2,
      "outputs": [
        {
          "output_type": "stream",
          "text": [
            "Downloading data from https://www.cs.toronto.edu/~kriz/cifar-10-python.tar.gz\n",
            "170500096/170498071 [==============================] - 4s 0us/step\n"
          ],
          "name": "stdout"
        },
        {
          "output_type": "execute_result",
          "data": {
            "text/plain": [
              "(50000,)"
            ]
          },
          "metadata": {
            "tags": []
          },
          "execution_count": 2
        }
      ]
    },
    {
      "cell_type": "code",
      "metadata": {
        "colab": {
          "base_uri": "https://localhost:8080/",
          "height": 190
        },
        "id": "czNwC2TX9B3_",
        "outputId": "074836cd-af52-4e22-f218-c5c90253d1f4"
      },
      "source": [
        "plot_sample(X_train[1], y_train[1])\n",
        "X_train[1].shape"
      ],
      "execution_count": 3,
      "outputs": [
        {
          "output_type": "execute_result",
          "data": {
            "text/plain": [
              "(32, 32, 3)"
            ]
          },
          "metadata": {
            "tags": []
          },
          "execution_count": 3
        },
        {
          "output_type": "display_data",
          "data": {
            "image/png": "[encoded data removed]",
            "text/plain": [
              "<Figure size 1080x144 with 1 Axes>"
            ]
          },
          "metadata": {
            "tags": [],
            "needs_background": "light"
          }
        }
      ]
    },
    {
      "cell_type": "code",
      "metadata": {
        "id": "_lVQSk11BxgH"
      },
      "source": [
        "def image_to_feature_vector(image, size=(32, 32)):\n",
        "\treturn cv2.resize(image, size).flatten()"
      ],
      "execution_count": 4,
      "outputs": []
    },
    {
      "cell_type": "code",
      "metadata": {
        "id": "WgwGXzHoA9da"
      },
      "source": [
        "number_train_sample = X_train.shape[0]\n",
        "number_test_sample = X_test.shape[0]\n",
        "\n",
        "X_train_converted = []\n",
        "X_test_converted = []\n",
        "\n",
        "for i in range(number_train_sample):\n",
        "    pixels = image_to_feature_vector(X_train[i])\n",
        "    X_train_converted.append(pixels)\n",
        "\n",
        "for i in range(number_test_sample):\n",
        "    pixels = image_to_feature_vector(X_test[i])\n",
        "    X_test_converted.append(pixels) \n",
        "\n"
      ],
      "execution_count": 5,
      "outputs": []
    },
    {
      "cell_type": "code",
      "metadata": {
        "colab": {
          "base_uri": "https://localhost:8080/"
        },
        "id": "8wW27PmLDuh8",
        "outputId": "f8136496-acd1-4c49-ca68-e8b88f204d7a"
      },
      "source": [
        "X_train_converted = np.array(X_train_converted)\n",
        "X_test_converted = np.array(X_test_converted)\n",
        "y_train_converted = np.array(y_train)\n",
        "y_test_converted = np.array(y_test)\n",
        "\n",
        "X_train_converted = X_train_converted[:20000, : ]\n",
        "y_train_converted = y_train[:20000,]\n",
        "X_test_converted = X_test_converted[:100, : ]\n",
        "y_test_converted = y_test[:100,]\n",
        "\n",
        "print (f\"X_train shape: {X_train_converted.shape}\")\n",
        "print (f\"y_train shape: {y_train_converted.shape}\")\n",
        "print (f\"X_test shape: {X_test_converted.shape}\")\n",
        "print (f\"y_test shape: {y_test_converted.shape}\")"
      ],
      "execution_count": 6,
      "outputs": [
        {
          "output_type": "stream",
          "text": [
            "X_train shape: (20000, 3072)\n",
            "y_train shape: (20000,)\n",
            "X_test shape: (100, 3072)\n",
            "y_test shape: (100,)\n"
          ],
          "name": "stdout"
        }
      ]
    },
    {
      "cell_type": "code",
      "metadata": {
        "colab": {
          "base_uri": "https://localhost:8080/",
          "height": 1000
        },
        "id": "DxmQ9pZhmxw-",
        "outputId": "eec00f72-850c-48e9-e997-f3df938ab45b"
      },
      "source": [
        "acc = []\n",
        "from sklearn import metrics\n",
        "for i in range(1,40):\n",
        "    knn_model = KNeighborsClassifier(n_neighbors=i).fit(X_train_converted, y_train)\n",
        "    y_real = knn_model.predict(X_test_converted)\n",
        "    temp = metrics.accuracy_score(y_test, y_real)\n",
        "    acc.append(temp)\n",
        "    print (f\"with {i} neighbour acc is {temp}\")\n",
        "    \n",
        "plt.figure(figsize=(10,6))\n",
        "plt.plot(range(1,40), acc, color='blue', linestyle='dashed', \n",
        "         marker='o', markerfacecolor='red', markersize=10)\n",
        "plt.title('accuracy vs. K Value')\n",
        "plt.xlabel('K')\n",
        "plt.ylabel('Accuracy')\n",
        "print(\"Maximum accuracy:-\",max(acc),\"at K =\",acc.index(max(acc)))"
      ],
      "execution_count": 31,
      "outputs": [
        {
          "output_type": "stream",
          "text": [
            "with 1 neighbour acc is 0.32\n",
            "with 2 neighbour acc is 0.27\n",
            "with 3 neighbour acc is 0.34\n",
            "with 4 neighbour acc is 0.37\n",
            "with 5 neighbour acc is 0.35\n",
            "with 6 neighbour acc is 0.35\n",
            "with 7 neighbour acc is 0.37\n",
            "with 8 neighbour acc is 0.35\n",
            "with 9 neighbour acc is 0.34\n",
            "with 10 neighbour acc is 0.34\n",
            "with 11 neighbour acc is 0.36\n",
            "with 12 neighbour acc is 0.34\n",
            "with 13 neighbour acc is 0.33\n",
            "with 14 neighbour acc is 0.34\n",
            "with 15 neighbour acc is 0.33\n",
            "with 16 neighbour acc is 0.35\n",
            "with 17 neighbour acc is 0.35\n",
            "with 18 neighbour acc is 0.36\n",
            "with 19 neighbour acc is 0.34\n",
            "with 20 neighbour acc is 0.34\n",
            "with 21 neighbour acc is 0.34\n",
            "with 22 neighbour acc is 0.36\n",
            "with 23 neighbour acc is 0.35\n",
            "with 24 neighbour acc is 0.35\n",
            "with 25 neighbour acc is 0.35\n",
            "with 26 neighbour acc is 0.33\n",
            "with 27 neighbour acc is 0.32\n",
            "with 28 neighbour acc is 0.32\n",
            "with 29 neighbour acc is 0.32\n",
            "with 30 neighbour acc is 0.31\n",
            "with 31 neighbour acc is 0.32\n",
            "with 32 neighbour acc is 0.31\n",
            "with 33 neighbour acc is 0.3\n",
            "with 34 neighbour acc is 0.31\n",
            "with 35 neighbour acc is 0.31\n",
            "with 36 neighbour acc is 0.3\n",
            "with 37 neighbour acc is 0.31\n",
            "with 38 neighbour acc is 0.33\n",
            "with 39 neighbour acc is 0.33\n",
            "Maximum accuracy:- 0.37 at K = 3\n"
          ],
          "name": "stdout"
        },
        {
          "output_type": "display_data",
          "data": {
            "image/png": "[encoded data removed]",
            "text/plain": [
              "<Figure size 720x432 with 1 Axes>"
            ]
          },
          "metadata": {
            "tags": [],
            "needs_background": "light"
          }
        }
      ]
    },
    {
      "cell_type": "markdown",
      "metadata": {
        "id": "8BAupYr5TGhG"
      },
      "source": [
        "## Convolutional Neural Network (CNN)"
      ]
    },
    {
      "cell_type": "code",
      "metadata": {
        "id": "-62Lv-Pc2XDV"
      },
      "source": [
        "X_train = X_train / 255.0\n",
        "X_test = X_test / 255.0"
      ],
      "execution_count": 7,
      "outputs": []
    },
    {
      "cell_type": "code",
      "metadata": {
        "id": "80KC2zfqJbjF"
      },
      "source": [
        "cnn_model = models.Sequential([\n",
        "    layers.Conv2D(filters=32, kernel_size=(3, 3), activation='relu', input_shape=(32, 32, 3)),\n",
        "    layers.MaxPooling2D((2, 2)),\n",
        "    \n",
        "    layers.Conv2D(filters=64, kernel_size=(3, 3), activation='relu'),\n",
        "    layers.MaxPooling2D((2, 2)),\n",
        "    \n",
        "    layers.Flatten(),\n",
        "    layers.Dense(64, activation='relu'),\n",
        "    layers.Dense(10, activation='softmax')\n",
        "])\n",
        "\n",
        "cnn_model.compile(optimizer='adam',\n",
        "              loss='sparse_categorical_crossentropy',\n",
        "              metrics=['accuracy'])"
      ],
      "execution_count": 8,
      "outputs": []
    },
    {
      "cell_type": "code",
      "metadata": {
        "colab": {
          "base_uri": "https://localhost:8080/"
        },
        "id": "V1ciLb7bT2tC",
        "outputId": "e65d5b25-cff6-4347-c5b3-d13c4c9d96b2"
      },
      "source": [
        "cnn_model.fit(X_train, y_train, epochs=40)"
      ],
      "execution_count": 9,
      "outputs": [
        {
          "output_type": "stream",
          "text": [
            "Epoch 1/40\n",
            "1563/1563 [==============================] - 36s 3ms/step - loss: 1.4900 - accuracy: 0.4622\n",
            "Epoch 2/40\n",
            "1563/1563 [==============================] - 5s 3ms/step - loss: 1.1424 - accuracy: 0.5976\n",
            "Epoch 3/40\n",
            "1563/1563 [==============================] - 5s 3ms/step - loss: 1.0096 - accuracy: 0.6474\n",
            "Epoch 4/40\n",
            "1563/1563 [==============================] - 5s 3ms/step - loss: 0.9242 - accuracy: 0.6791\n",
            "Epoch 5/40\n",
            "1563/1563 [==============================] - 5s 3ms/step - loss: 0.8624 - accuracy: 0.7003\n",
            "Epoch 6/40\n",
            "1563/1563 [==============================] - 5s 3ms/step - loss: 0.8113 - accuracy: 0.7177\n",
            "Epoch 7/40\n",
            "1563/1563 [==============================] - 5s 3ms/step - loss: 0.7603 - accuracy: 0.7360\n",
            "Epoch 8/40\n",
            "1563/1563 [==============================] - 5s 3ms/step - loss: 0.7184 - accuracy: 0.7492\n",
            "Epoch 9/40\n",
            "1563/1563 [==============================] - 5s 3ms/step - loss: 0.6781 - accuracy: 0.7625\n",
            "Epoch 10/40\n",
            "1563/1563 [==============================] - 5s 3ms/step - loss: 0.6482 - accuracy: 0.7731\n",
            "Epoch 11/40\n",
            "1563/1563 [==============================] - 5s 3ms/step - loss: 0.6128 - accuracy: 0.7853\n",
            "Epoch 12/40\n",
            "1563/1563 [==============================] - 5s 3ms/step - loss: 0.5826 - accuracy: 0.7971\n",
            "Epoch 13/40\n",
            "1563/1563 [==============================] - 5s 3ms/step - loss: 0.5520 - accuracy: 0.8071\n",
            "Epoch 14/40\n",
            "1563/1563 [==============================] - 5s 3ms/step - loss: 0.5255 - accuracy: 0.8148\n",
            "Epoch 15/40\n",
            "1563/1563 [==============================] - 5s 3ms/step - loss: 0.4991 - accuracy: 0.8246\n",
            "Epoch 16/40\n",
            "1563/1563 [==============================] - 5s 3ms/step - loss: 0.4675 - accuracy: 0.8362\n",
            "Epoch 17/40\n",
            "1563/1563 [==============================] - 5s 3ms/step - loss: 0.4489 - accuracy: 0.8414\n",
            "Epoch 18/40\n",
            "1563/1563 [==============================] - 5s 3ms/step - loss: 0.4306 - accuracy: 0.8490\n",
            "Epoch 19/40\n",
            "1563/1563 [==============================] - 5s 3ms/step - loss: 0.4049 - accuracy: 0.8568\n",
            "Epoch 20/40\n",
            "1563/1563 [==============================] - 5s 3ms/step - loss: 0.3856 - accuracy: 0.8638\n",
            "Epoch 21/40\n",
            "1563/1563 [==============================] - 5s 3ms/step - loss: 0.3644 - accuracy: 0.8704\n",
            "Epoch 22/40\n",
            "1563/1563 [==============================] - 5s 3ms/step - loss: 0.3468 - accuracy: 0.8766\n",
            "Epoch 23/40\n",
            "1563/1563 [==============================] - 5s 3ms/step - loss: 0.3328 - accuracy: 0.8811\n",
            "Epoch 24/40\n",
            "1563/1563 [==============================] - 5s 3ms/step - loss: 0.3211 - accuracy: 0.8864\n",
            "Epoch 25/40\n",
            "1563/1563 [==============================] - 5s 3ms/step - loss: 0.3032 - accuracy: 0.8912\n",
            "Epoch 26/40\n",
            "1563/1563 [==============================] - 5s 3ms/step - loss: 0.2851 - accuracy: 0.8967\n",
            "Epoch 27/40\n",
            "1563/1563 [==============================] - 5s 3ms/step - loss: 0.2684 - accuracy: 0.9031\n",
            "Epoch 28/40\n",
            "1563/1563 [==============================] - 5s 3ms/step - loss: 0.2637 - accuracy: 0.9048\n",
            "Epoch 29/40\n",
            "1563/1563 [==============================] - 5s 3ms/step - loss: 0.2532 - accuracy: 0.9076\n",
            "Epoch 30/40\n",
            "1563/1563 [==============================] - 5s 3ms/step - loss: 0.2394 - accuracy: 0.9136\n",
            "Epoch 31/40\n",
            "1563/1563 [==============================] - 5s 3ms/step - loss: 0.2271 - accuracy: 0.9188\n",
            "Epoch 32/40\n",
            "1563/1563 [==============================] - 5s 3ms/step - loss: 0.2247 - accuracy: 0.9189\n",
            "Epoch 33/40\n",
            "1563/1563 [==============================] - 5s 3ms/step - loss: 0.2096 - accuracy: 0.9247\n",
            "Epoch 34/40\n",
            "1563/1563 [==============================] - 5s 3ms/step - loss: 0.2082 - accuracy: 0.9248\n",
            "Epoch 35/40\n",
            "1563/1563 [==============================] - 5s 3ms/step - loss: 0.1932 - accuracy: 0.9296\n",
            "Epoch 36/40\n",
            "1563/1563 [==============================] - 5s 3ms/step - loss: 0.1923 - accuracy: 0.9306\n",
            "Epoch 37/40\n",
            "1563/1563 [==============================] - 5s 3ms/step - loss: 0.1824 - accuracy: 0.9337\n",
            "Epoch 38/40\n",
            "1563/1563 [==============================] - 5s 3ms/step - loss: 0.1725 - accuracy: 0.9376\n",
            "Epoch 39/40\n",
            "1563/1563 [==============================] - 5s 3ms/step - loss: 0.1779 - accuracy: 0.9351\n",
            "Epoch 40/40\n",
            "1563/1563 [==============================] - 5s 3ms/step - loss: 0.1667 - accuracy: 0.9386\n"
          ],
          "name": "stdout"
        },
        {
          "output_type": "execute_result",
          "data": {
            "text/plain": [
              "<tensorflow.python.keras.callbacks.History at 0x7f03eaaaec10>"
            ]
          },
          "metadata": {
            "tags": []
          },
          "execution_count": 9
        }
      ]
    },
    {
      "cell_type": "code",
      "metadata": {
        "colab": {
          "base_uri": "https://localhost:8080/"
        },
        "id": "1qqzAKsDUGcw",
        "outputId": "9f233043-b04c-4bd0-ccc8-c28319a063c5"
      },
      "source": [
        "cnn_model.evaluate(X_test,y_test)\n"
      ],
      "execution_count": 10,
      "outputs": [
        {
          "output_type": "stream",
          "text": [
            "313/313 [==============================] - 1s 2ms/step - loss: 2.3003 - accuracy: 0.6621\n"
          ],
          "name": "stdout"
        },
        {
          "output_type": "execute_result",
          "data": {
            "text/plain": [
              "[2.3003146648406982, 0.6621000170707703]"
            ]
          },
          "metadata": {
            "tags": []
          },
          "execution_count": 10
        }
      ]
    },
    {
      "cell_type": "code",
      "metadata": {
        "id": "LuM_2EzcWFVl"
      },
      "source": [
        ""
      ],
      "execution_count": null,
      "outputs": []
    }
  ]
}